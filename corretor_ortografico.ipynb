{
 "cells": [
  {
   "cell_type": "markdown",
   "id": "287c5778",
   "metadata": {},
   "source": [
    "<h1>PLN - Corretor Ortográfico</h1>"
   ]
  },
  {
   "cell_type": "code",
   "execution_count": 1,
   "id": "7bd615d7",
   "metadata": {},
   "outputs": [
    {
     "name": "stdout",
     "output_type": "stream",
     "text": [
      "\n",
      "\n",
      "\n",
      "imagem \n",
      "\n",
      "Temos a seguinte classe que representa um usuário no nosso sistema:\n",
      "\n",
      "java\n",
      "\n",
      "Para salvar um novo usuário, várias validações são feitas, como por exemplo: Ver se o nome só contém letras, [**o CPF só números**] e ver se o usuário possui no mínimo 18 anos. Veja o método que faz essa validação:\n",
      "\n",
      "java \n",
      "\n",
      "Suponha agora que eu tenha outra classe, a classe `Produto`, que contém um atributo nome e eu quero fazer a mesma validação que fiz para o nome do usuário: Ver se só contém letras. E aí? Vou\n"
     ]
    }
   ],
   "source": [
    "with open(\"artigos.txt\", \"r\", encoding=\"utf8\") as f:\n",
    "    artigos = f.read()\n",
    "\n",
    "print(artigos[:500])"
   ]
  },
  {
   "cell_type": "markdown",
   "id": "ad5fea2e",
   "metadata": {},
   "source": [
    "<h3>Tokenização com NLTK</h3>"
   ]
  },
  {
   "cell_type": "code",
   "execution_count": 2,
   "id": "704251cd",
   "metadata": {},
   "outputs": [],
   "source": [
    "from nltk.tokenize import word_tokenize"
   ]
  },
  {
   "cell_type": "markdown",
   "id": "80bb322e",
   "metadata": {},
   "source": [
    "O método word_tokenize separa palavras, mas também separa as pontuações, que são indesejáveis para os nossos fins. A função abaixo faz com que as pontuações não sejam consideradas tokens."
   ]
  },
  {
   "cell_type": "code",
   "execution_count": 3,
   "id": "d8e2ed4c",
   "metadata": {},
   "outputs": [],
   "source": [
    "def separa_palavras(tokens):\n",
    "    \n",
    "    lista_tokens = []\n",
    "    \n",
    "    for token in tokens:\n",
    "        if token.isalpha():\n",
    "            lista_tokens.append(token)\n",
    "    \n",
    "    return lista_tokens"
   ]
  },
  {
   "cell_type": "code",
   "execution_count": 4,
   "id": "739b5925",
   "metadata": {},
   "outputs": [
    {
     "name": "stdout",
     "output_type": "stream",
     "text": [
      "403031\n"
     ]
    }
   ],
   "source": [
    "lista_palavras = separa_palavras(word_tokenize(artigos))\n",
    "\n",
    "print(len(lista_palavras)) # quantidade total de palavras"
   ]
  },
  {
   "cell_type": "markdown",
   "id": "c75d8d2f",
   "metadata": {},
   "source": [
    "<h3>Normalização dos tokens</h3>\n",
    "\n",
    "Em outras palavras, deixando todos os tokens em letra minúscula."
   ]
  },
  {
   "cell_type": "code",
   "execution_count": 5,
   "id": "90c0bf3b",
   "metadata": {},
   "outputs": [],
   "source": [
    "def normalizar(lista_palavras):\n",
    "    \n",
    "    lista_normalizada = []\n",
    "    \n",
    "    for palavra in lista_palavras:\n",
    "        lista_normalizada.append(palavra.lower())\n",
    "        \n",
    "    return lista_normalizada"
   ]
  },
  {
   "cell_type": "code",
   "execution_count": 6,
   "id": "8331e8e5",
   "metadata": {},
   "outputs": [],
   "source": [
    "lista_normalizada = normalizar(lista_palavras)"
   ]
  },
  {
   "cell_type": "code",
   "execution_count": 7,
   "id": "05107c70",
   "metadata": {},
   "outputs": [
    {
     "name": "stdout",
     "output_type": "stream",
     "text": [
      "['imagem', 'temos', 'a', 'seguinte', 'classe']\n"
     ]
    }
   ],
   "source": [
    "print(lista_normalizada[:5])"
   ]
  },
  {
   "cell_type": "markdown",
   "id": "94ba540e",
   "metadata": {},
   "source": [
    "<h4>Retirando tokens repetidos</h4>"
   ]
  },
  {
   "cell_type": "code",
   "execution_count": 37,
   "id": "322dabbf",
   "metadata": {},
   "outputs": [
    {
     "data": {
      "text/plain": [
       "18464"
      ]
     },
     "execution_count": 37,
     "metadata": {},
     "output_type": "execute_result"
    }
   ],
   "source": [
    "vocabulario = set(lista_normalizada) \n",
    "len(vocabulario) # quantidade de palavras sem repetição"
   ]
  },
  {
   "cell_type": "markdown",
   "id": "c4aef055",
   "metadata": {},
   "source": [
    "<h3>Algoritmo para correção das palavras</h3>\n",
    "\n",
    "Contempla o erro do tipo: Usuário \"esquece\" de digitar uma letra. \n",
    "\n",
    "Exemplo: 'Lgica'"
   ]
  },
  {
   "cell_type": "code",
   "execution_count": 9,
   "id": "3a0f2112",
   "metadata": {},
   "outputs": [],
   "source": [
    "def insere_letras(fatias):\n",
    "    \n",
    "    novas_palavras = []\n",
    "    \n",
    "    letras = \"abcdefghijklmnopqrstuvwxyzàáâãèéêìíîòóôõùúûç\"\n",
    "    \n",
    "    for E, D in fatias:\n",
    "        for letra in letras:\n",
    "            novas_palavras.append(E+letra+D)\n",
    "    \n",
    "    return novas_palavras"
   ]
  },
  {
   "cell_type": "code",
   "execution_count": 10,
   "id": "f7202103",
   "metadata": {},
   "outputs": [],
   "source": [
    "def gerador_palavras(palavra):\n",
    "    \n",
    "    fatias = []\n",
    "    \n",
    "    for i in range(len(palavra)+1):\n",
    "        \n",
    "        fatias.append((palavra[:i], palavra[i:]))\n",
    "        \n",
    "    palavras_geradas = insere_letras(fatias)\n",
    "    \n",
    "    return palavras_geradas"
   ]
  },
  {
   "cell_type": "code",
   "execution_count": 11,
   "id": "5ae27c04",
   "metadata": {},
   "outputs": [
    {
     "data": {
      "text/plain": [
       "['algica',\n",
       " 'blgica',\n",
       " 'clgica',\n",
       " 'dlgica',\n",
       " 'elgica',\n",
       " 'flgica',\n",
       " 'glgica',\n",
       " 'hlgica',\n",
       " 'ilgica',\n",
       " 'jlgica',\n",
       " 'klgica',\n",
       " 'llgica',\n",
       " 'mlgica',\n",
       " 'nlgica',\n",
       " 'olgica',\n",
       " 'plgica',\n",
       " 'qlgica',\n",
       " 'rlgica',\n",
       " 'slgica',\n",
       " 'tlgica',\n",
       " 'ulgica',\n",
       " 'vlgica',\n",
       " 'wlgica',\n",
       " 'xlgica',\n",
       " 'ylgica',\n",
       " 'zlgica',\n",
       " 'àlgica',\n",
       " 'álgica',\n",
       " 'âlgica',\n",
       " 'ãlgica',\n",
       " 'èlgica',\n",
       " 'élgica',\n",
       " 'êlgica',\n",
       " 'ìlgica',\n",
       " 'ílgica',\n",
       " 'îlgica',\n",
       " 'òlgica',\n",
       " 'ólgica',\n",
       " 'ôlgica',\n",
       " 'õlgica',\n",
       " 'ùlgica',\n",
       " 'úlgica',\n",
       " 'ûlgica',\n",
       " 'çlgica',\n",
       " 'lagica',\n",
       " 'lbgica',\n",
       " 'lcgica',\n",
       " 'ldgica',\n",
       " 'legica',\n",
       " 'lfgica',\n",
       " 'lggica',\n",
       " 'lhgica',\n",
       " 'ligica',\n",
       " 'ljgica',\n",
       " 'lkgica',\n",
       " 'llgica',\n",
       " 'lmgica',\n",
       " 'lngica',\n",
       " 'logica',\n",
       " 'lpgica',\n",
       " 'lqgica',\n",
       " 'lrgica',\n",
       " 'lsgica',\n",
       " 'ltgica',\n",
       " 'lugica',\n",
       " 'lvgica',\n",
       " 'lwgica',\n",
       " 'lxgica',\n",
       " 'lygica',\n",
       " 'lzgica',\n",
       " 'làgica',\n",
       " 'lágica',\n",
       " 'lâgica',\n",
       " 'lãgica',\n",
       " 'lègica',\n",
       " 'légica',\n",
       " 'lêgica',\n",
       " 'lìgica',\n",
       " 'lígica',\n",
       " 'lîgica',\n",
       " 'lògica',\n",
       " 'lógica',\n",
       " 'lôgica',\n",
       " 'lõgica',\n",
       " 'lùgica',\n",
       " 'lúgica',\n",
       " 'lûgica',\n",
       " 'lçgica',\n",
       " 'lgaica',\n",
       " 'lgbica',\n",
       " 'lgcica',\n",
       " 'lgdica',\n",
       " 'lgeica',\n",
       " 'lgfica',\n",
       " 'lggica',\n",
       " 'lghica',\n",
       " 'lgiica',\n",
       " 'lgjica',\n",
       " 'lgkica',\n",
       " 'lglica',\n",
       " 'lgmica',\n",
       " 'lgnica',\n",
       " 'lgoica',\n",
       " 'lgpica',\n",
       " 'lgqica',\n",
       " 'lgrica',\n",
       " 'lgsica',\n",
       " 'lgtica',\n",
       " 'lguica',\n",
       " 'lgvica',\n",
       " 'lgwica',\n",
       " 'lgxica',\n",
       " 'lgyica',\n",
       " 'lgzica',\n",
       " 'lgàica',\n",
       " 'lgáica',\n",
       " 'lgâica',\n",
       " 'lgãica',\n",
       " 'lgèica',\n",
       " 'lgéica',\n",
       " 'lgêica',\n",
       " 'lgìica',\n",
       " 'lgíica',\n",
       " 'lgîica',\n",
       " 'lgòica',\n",
       " 'lgóica',\n",
       " 'lgôica',\n",
       " 'lgõica',\n",
       " 'lgùica',\n",
       " 'lgúica',\n",
       " 'lgûica',\n",
       " 'lgçica',\n",
       " 'lgiaca',\n",
       " 'lgibca',\n",
       " 'lgicca',\n",
       " 'lgidca',\n",
       " 'lgieca',\n",
       " 'lgifca',\n",
       " 'lgigca',\n",
       " 'lgihca',\n",
       " 'lgiica',\n",
       " 'lgijca',\n",
       " 'lgikca',\n",
       " 'lgilca',\n",
       " 'lgimca',\n",
       " 'lginca',\n",
       " 'lgioca',\n",
       " 'lgipca',\n",
       " 'lgiqca',\n",
       " 'lgirca',\n",
       " 'lgisca',\n",
       " 'lgitca',\n",
       " 'lgiuca',\n",
       " 'lgivca',\n",
       " 'lgiwca',\n",
       " 'lgixca',\n",
       " 'lgiyca',\n",
       " 'lgizca',\n",
       " 'lgiàca',\n",
       " 'lgiáca',\n",
       " 'lgiâca',\n",
       " 'lgiãca',\n",
       " 'lgièca',\n",
       " 'lgiéca',\n",
       " 'lgiêca',\n",
       " 'lgiìca',\n",
       " 'lgiíca',\n",
       " 'lgiîca',\n",
       " 'lgiòca',\n",
       " 'lgióca',\n",
       " 'lgiôca',\n",
       " 'lgiõca',\n",
       " 'lgiùca',\n",
       " 'lgiúca',\n",
       " 'lgiûca',\n",
       " 'lgiçca',\n",
       " 'lgicaa',\n",
       " 'lgicba',\n",
       " 'lgicca',\n",
       " 'lgicda',\n",
       " 'lgicea',\n",
       " 'lgicfa',\n",
       " 'lgicga',\n",
       " 'lgicha',\n",
       " 'lgicia',\n",
       " 'lgicja',\n",
       " 'lgicka',\n",
       " 'lgicla',\n",
       " 'lgicma',\n",
       " 'lgicna',\n",
       " 'lgicoa',\n",
       " 'lgicpa',\n",
       " 'lgicqa',\n",
       " 'lgicra',\n",
       " 'lgicsa',\n",
       " 'lgicta',\n",
       " 'lgicua',\n",
       " 'lgicva',\n",
       " 'lgicwa',\n",
       " 'lgicxa',\n",
       " 'lgicya',\n",
       " 'lgicza',\n",
       " 'lgicàa',\n",
       " 'lgicáa',\n",
       " 'lgicâa',\n",
       " 'lgicãa',\n",
       " 'lgicèa',\n",
       " 'lgicéa',\n",
       " 'lgicêa',\n",
       " 'lgicìa',\n",
       " 'lgicía',\n",
       " 'lgicîa',\n",
       " 'lgicòa',\n",
       " 'lgicóa',\n",
       " 'lgicôa',\n",
       " 'lgicõa',\n",
       " 'lgicùa',\n",
       " 'lgicúa',\n",
       " 'lgicûa',\n",
       " 'lgicça',\n",
       " 'lgicaa',\n",
       " 'lgicab',\n",
       " 'lgicac',\n",
       " 'lgicad',\n",
       " 'lgicae',\n",
       " 'lgicaf',\n",
       " 'lgicag',\n",
       " 'lgicah',\n",
       " 'lgicai',\n",
       " 'lgicaj',\n",
       " 'lgicak',\n",
       " 'lgical',\n",
       " 'lgicam',\n",
       " 'lgican',\n",
       " 'lgicao',\n",
       " 'lgicap',\n",
       " 'lgicaq',\n",
       " 'lgicar',\n",
       " 'lgicas',\n",
       " 'lgicat',\n",
       " 'lgicau',\n",
       " 'lgicav',\n",
       " 'lgicaw',\n",
       " 'lgicax',\n",
       " 'lgicay',\n",
       " 'lgicaz',\n",
       " 'lgicaà',\n",
       " 'lgicaá',\n",
       " 'lgicaâ',\n",
       " 'lgicaã',\n",
       " 'lgicaè',\n",
       " 'lgicaé',\n",
       " 'lgicaê',\n",
       " 'lgicaì',\n",
       " 'lgicaí',\n",
       " 'lgicaî',\n",
       " 'lgicaò',\n",
       " 'lgicaó',\n",
       " 'lgicaô',\n",
       " 'lgicaõ',\n",
       " 'lgicaù',\n",
       " 'lgicaú',\n",
       " 'lgicaû',\n",
       " 'lgicaç']"
      ]
     },
     "execution_count": 11,
     "metadata": {},
     "output_type": "execute_result"
    }
   ],
   "source": [
    "#exemplo\n",
    "\n",
    "gerador_palavras('lgica')"
   ]
  },
  {
   "cell_type": "code",
   "execution_count": 12,
   "id": "cf35e1e8",
   "metadata": {},
   "outputs": [],
   "source": [
    "from nltk.probability import FreqDist\n",
    "\n",
    "total_de_palavras = len(lista_normalizada)\n",
    "\n",
    "frequencia = FreqDist(lista_normalizada)\n",
    "\n",
    "def probabilidade(palavra_gerada):\n",
    "    \n",
    "    return frequencia[palavra_gerada]/total_de_palavras"
   ]
  },
  {
   "cell_type": "code",
   "execution_count": 13,
   "id": "ddbcf908",
   "metadata": {},
   "outputs": [],
   "source": [
    "def corretor(palavra):\n",
    "    palavras_geradas = gerador_palavras(palavra)\n",
    "    \n",
    "    palavra_correta = max(palavras_geradas, key=probabilidade)\n",
    "    \n",
    "    return palavra_correta"
   ]
  },
  {
   "cell_type": "code",
   "execution_count": 14,
   "id": "59b36b74",
   "metadata": {
    "scrolled": true
   },
   "outputs": [
    {
     "data": {
      "text/plain": [
       "'lógica'"
      ]
     },
     "execution_count": 14,
     "metadata": {},
     "output_type": "execute_result"
    }
   ],
   "source": [
    "corretor('lgica')"
   ]
  },
  {
   "cell_type": "markdown",
   "id": "331cf503",
   "metadata": {},
   "source": [
    "<h3>Avaliação da qualidade do corretor</h3>"
   ]
  },
  {
   "cell_type": "code",
   "execution_count": 15,
   "id": "49d26073",
   "metadata": {},
   "outputs": [],
   "source": [
    "def cria_dados_teste(nome_arquivo):\n",
    "    \n",
    "    lista_palavras_teste = []\n",
    "    \n",
    "    f = open(nome_arquivo, \"r\", encoding='utf8')\n",
    "    \n",
    "    for linha in f:\n",
    "        correta, errada = linha.split()\n",
    "        lista_palavras_teste.append((correta, errada))\n",
    "    \n",
    "    f.close()\n",
    "    \n",
    "    return lista_palavras_teste"
   ]
  },
  {
   "cell_type": "code",
   "execution_count": 16,
   "id": "f1b02d3b",
   "metadata": {},
   "outputs": [
    {
     "data": {
      "text/plain": [
       "[('podemos', 'pyodemos'),\n",
       " ('esse', 'esje'),\n",
       " ('já', 'jrá'),\n",
       " ('nosso', 'nossov'),\n",
       " ('são', 'sãêo'),\n",
       " ('dos', 'dosa'),\n",
       " ('muito', 'muifo'),\n",
       " ('imagem', 'iômagem'),\n",
       " ('sua', 'ósua'),\n",
       " ('também', 'tambéùm'),\n",
       " ('ele', 'eme'),\n",
       " ('fazer', 'èazer'),\n",
       " ('temos', 'temfs'),\n",
       " ('essa', 'eàssa'),\n",
       " ('quando', 'quaôdo'),\n",
       " ('vamos', 'vamvos'),\n",
       " ('sobre', 'hsobre'),\n",
       " ('java', 'sjava'),\n",
       " ('das', 'daõs'),\n",
       " ('agora', 'agorah'),\n",
       " ('está', 'eòtá'),\n",
       " ('cada', 'céda'),\n",
       " ('mesmo', 'zmesmo'),\n",
       " ('nos', 'noâ'),\n",
       " ('forma', 'fobma'),\n",
       " ('seja', 'sejéa'),\n",
       " ('então', 'enêão'),\n",
       " ('criar', 'èriar'),\n",
       " ('código', 'cóeigo'),\n",
       " ('caso', 'casío'),\n",
       " ('exemplo', 'áexemplo'),\n",
       " ('tem', 'tĩem'),\n",
       " ('usuário', 'usuárôio'),\n",
       " ('dados', 'dfados'),\n",
       " ('python', 'pgthon'),\n",
       " ('nossa', 'nossah'),\n",
       " ('além', 'alémè'),\n",
       " ('assim', 'asõim'),\n",
       " ('ter', 'teb'),\n",
       " ('até', 'atĩ'),\n",
       " ('bem', 'âem'),\n",
       " ('design', 'desigen'),\n",
       " ('trabalho', 'trabalàho'),\n",
       " ('foi', 'foo'),\n",
       " ('apenas', 'apenaũ'),\n",
       " ('empresa', 'empresà'),\n",
       " ('valor', 'valíor'),\n",
       " ('será', 'serr'),\n",
       " ('entre', 'entke'),\n",
       " ('método', 'méqodo'),\n",
       " ('precisamos', 'precisamops'),\n",
       " ('ainda', 'ainàa'),\n",
       " ('vai', 'van'),\n",
       " ('conteúdo', 'ûconteúdo'),\n",
       " ('seus', 'çeus'),\n",
       " ('eu', 'eû'),\n",
       " ('todos', 'todtos'),\n",
       " ('tempo', 'temeo'),\n",
       " ('sempre', 'semre'),\n",
       " ('qual', 'quakl'),\n",
       " ('ela', 'elaá'),\n",
       " ('só', 'síó'),\n",
       " ('utilizar', 'utiqizar'),\n",
       " ('projeto', 'prhojeto'),\n",
       " ('site', 'siàe'),\n",
       " ('sem', 'seém'),\n",
       " ('pelo', 'peln'),\n",
       " ('alura', 'aléra'),\n",
       " ('dia', 'tdia'),\n",
       " ('tudo', 'tuúo'),\n",
       " ('podemos', 'kpodemos'),\n",
       " ('esse', 'eẽsse'),\n",
       " ('já', 'jé'),\n",
       " ('nosso', 'nçosso'),\n",
       " ('são', 'sãô'),\n",
       " ('dos', 'odos'),\n",
       " ('muito', 'tuito'),\n",
       " ('imagem', 'imõgem'),\n",
       " ('sua', 'siua'),\n",
       " ('também', 'tamvbém'),\n",
       " ('ele', 'elpe'),\n",
       " ('fazer', 'façzer'),\n",
       " ('temos', 'teos'),\n",
       " ('essa', 'eũsa'),\n",
       " ('quando', 'quaìdo'),\n",
       " ('vamos', 'vjmos'),\n",
       " ('sobre', 'sxobre'),\n",
       " ('java', 'jkva'),\n",
       " ('das', 'dms'),\n",
       " ('agora', 'agtora'),\n",
       " ('está', 'esútá'),\n",
       " ('cada', 'cava'),\n",
       " ('mesmo', 'medmo'),\n",
       " ('nos', 'ános'),\n",
       " ('forma', 'forûa'),\n",
       " ('seja', 'smeja'),\n",
       " ('então', 'enjtão'),\n",
       " ('criar', 'criôar'),\n",
       " ('código', 'cóàigo'),\n",
       " ('caso', 'èaso'),\n",
       " ('exemplo', 'exbemplo'),\n",
       " ('tem', 'túem'),\n",
       " ('usuário', 'usuárin'),\n",
       " ('dados', 'daáos'),\n",
       " ('python', 'pythoçn'),\n",
       " ('nossa', 'nossk'),\n",
       " ('além', 'âlém'),\n",
       " ('assim', 'aóssim'),\n",
       " ('ter', 'tãer'),\n",
       " ('até', 'vté'),\n",
       " ('bem', 'búm'),\n",
       " ('design', 'íesign'),\n",
       " ('trabalho', 'trabèalho'),\n",
       " ('foi', 'kfoi'),\n",
       " ('apenas', 'aapenas'),\n",
       " ('empresa', 'pmpresa'),\n",
       " ('valor', 'valoqr'),\n",
       " ('será', 'sçerá'),\n",
       " ('entre', 'entró'),\n",
       " ('método', 'nétodo'),\n",
       " ('precisamos', 'prefcisamos'),\n",
       " ('ainda', 'sainda'),\n",
       " ('vai', 'uai'),\n",
       " ('conteúdo', 'cĩonteúdo'),\n",
       " ('seus', 'sâus'),\n",
       " ('eu', 'ìeu'),\n",
       " ('todos', 'todás'),\n",
       " ('tempo', 'utempo'),\n",
       " ('sempre', 'sempce'),\n",
       " ('qual', 'fual'),\n",
       " ('ela', 'elal'),\n",
       " ('só', 'skó'),\n",
       " ('utilizar', 'utilĩzar'),\n",
       " ('projeto', 'proójeto'),\n",
       " ('site', 'isite'),\n",
       " ('sem', 'secm'),\n",
       " ('pelo', 'pẽlo'),\n",
       " ('alura', 'aluéa'),\n",
       " ('dia', 'dil'),\n",
       " ('tudo', 'tudy'),\n",
       " ('ela', 'qelay'),\n",
       " ('só', 'sód'),\n",
       " ('utilizar', 'dtilizacr'),\n",
       " ('projeto', 'bprojõto'),\n",
       " ('site', 'ysiteo'),\n",
       " ('sem', 'sõêm'),\n",
       " ('pelo', 'peàli'),\n",
       " ('alura', 'asuraó'),\n",
       " ('dia', 'deiìa'),\n",
       " ('tudo', 'tuĩdoì'),\n",
       " ('ela', 'eúaa'),\n",
       " ('só', 'ró'),\n",
       " ('utilizar', 'utilizẽaçr'),\n",
       " ('projeto', 'prêjetó'),\n",
       " ('site', 'sqiqte'),\n",
       " ('sem', 'sũexm'),\n",
       " ('pelo', 'pçlxo'),\n",
       " ('alura', 'uluraa'),\n",
       " ('dia', 'dĩaz'),\n",
       " ('tudo', 'kzudo'),\n",
       " ('corretor', 'correptor'),\n",
       " ('tática', 'trtica'),\n",
       " ('empoderamento', 'ewpoderamento'),\n",
       " ('linux', 'lifux'),\n",
       " ('cachorro', 'cachoçro'),\n",
       " ('gato', 'îgato'),\n",
       " ('cavalo', 'cakvalo'),\n",
       " ('relógio', 'relógiuo'),\n",
       " ('canela', 'canelac'),\n",
       " ('tênis', 'tênisy'),\n",
       " ('ansiosa', 'anciosa'),\n",
       " ('ansiosa', 'ancciosa'),\n",
       " ('ansiosa', 'ansioa'),\n",
       " ('empoderamento', 'empoderamento'),\n",
       " ('asterisco', 'asterístico'),\n",
       " ('gratuito', 'gratuíto'),\n",
       " ('entretido', 'entertido'),\n",
       " ('ritmo', 'ritimo'),\n",
       " ('idiota', 'indiota'),\n",
       " ('tomara', 'tomare'),\n",
       " ('seja', 'seje'),\n",
       " ('prevalecer', 'provalecer'),\n",
       " ('esteja', 'esteje'),\n",
       " ('mendigo', 'mindigo'),\n",
       " ('cérebro', 'célebro'),\n",
       " ('perturbar', 'pertubar')]"
      ]
     },
     "execution_count": 16,
     "metadata": {},
     "output_type": "execute_result"
    }
   ],
   "source": [
    "lista_teste = cria_dados_teste('palavras.txt')\n",
    "lista_teste"
   ]
  },
  {
   "cell_type": "code",
   "execution_count": 17,
   "id": "4b378342",
   "metadata": {},
   "outputs": [],
   "source": [
    "def avaliador(testes):\n",
    "    \n",
    "    numero_de_palavras = len(testes)\n",
    "    \n",
    "    acertos = 0\n",
    "    \n",
    "    for correta, errada in testes:\n",
    "        palavra_corrigida = corretor(errada)\n",
    "        \n",
    "        if palavra_corrigida == correta:\n",
    "            acertos += 1\n",
    "    \n",
    "    taxa_acerto = round(acertos*100/numero_de_palavras, ndigits=2)\n",
    "    \n",
    "    print(\"Taxa de acerto (%):\", taxa_acerto)\n",
    "    print(\"Total de palavras:\", len(testes) )"
   ]
  },
  {
   "cell_type": "code",
   "execution_count": 18,
   "id": "f2c38c9f",
   "metadata": {
    "scrolled": true
   },
   "outputs": [
    {
     "name": "stdout",
     "output_type": "stream",
     "text": [
      "Taxa de acerto (%): 1.08\n",
      "Total de palavras: 186\n"
     ]
    }
   ],
   "source": [
    "avaliador(lista_teste)"
   ]
  },
  {
   "cell_type": "markdown",
   "id": "334d38fb",
   "metadata": {},
   "source": [
    "A qualidade do corretor deve ser melhorada, pois a taxa de acerto está inadmissivelmente baixa."
   ]
  },
  {
   "cell_type": "markdown",
   "id": "6317b2b6",
   "metadata": {},
   "source": [
    "<h3>Consideração de outro tipo de erro</h3>\n",
    "\n",
    "Contempla também o erro do tipo: Usuário digita uma letra a mais na palavra.\n",
    "\n",
    "Exemplo: 'Lóigica'"
   ]
  },
  {
   "cell_type": "code",
   "execution_count": 19,
   "id": "18b77a62",
   "metadata": {},
   "outputs": [],
   "source": [
    "# Adaptada da função insere_letras\n",
    "\n",
    "def deletar_caractere(fatias):\n",
    "    \n",
    "    novas_palavras = []\n",
    "        \n",
    "    for E, D in fatias:\n",
    "        novas_palavras.append(E+D[1:])\n",
    "    \n",
    "    return novas_palavras"
   ]
  },
  {
   "cell_type": "code",
   "execution_count": 20,
   "id": "bbf74bca",
   "metadata": {},
   "outputs": [],
   "source": [
    "# Adaptando a função geradora de palavras\n",
    "\n",
    "def gerador_palavras(palavra):\n",
    "    \n",
    "    fatias = []\n",
    "    \n",
    "    for i in range(len(palavra)+1):\n",
    "        \n",
    "        fatias.append((palavra[:i], palavra[i:]))\n",
    "        \n",
    "    palavras_geradas = insere_letras(fatias)\n",
    "    palavras_geradas += deletar_caractere(fatias)\n",
    "    \n",
    "    return palavras_geradas"
   ]
  },
  {
   "cell_type": "code",
   "execution_count": 21,
   "id": "af1118a7",
   "metadata": {
    "scrolled": true
   },
   "outputs": [
    {
     "name": "stdout",
     "output_type": "stream",
     "text": [
      "Taxa de acerto (%): 41.4\n",
      "Total de palavras: 186\n"
     ]
    }
   ],
   "source": [
    "avaliador(lista_teste)"
   ]
  },
  {
   "cell_type": "markdown",
   "id": "d6338c3e",
   "metadata": {},
   "source": [
    "Houve um aumento expressivo da taxa de acerto."
   ]
  },
  {
   "cell_type": "markdown",
   "id": "1b84bb0b",
   "metadata": {},
   "source": [
    "<h3>Consideração de outro tipo de erro</h3>\n",
    "\n",
    "Contempla também o erro do tipo: Usuário troca uma letra por outra na palavra.\n",
    "\n",
    "Exemplo: 'Lígica'"
   ]
  },
  {
   "cell_type": "code",
   "execution_count": 22,
   "id": "64309aab",
   "metadata": {},
   "outputs": [],
   "source": [
    "# Adaptada de insere_letras e deletar_caractere\n",
    "\n",
    "def troca_letras(fatias):\n",
    "    \n",
    "    novas_palavras = []\n",
    "    \n",
    "    letras = \"abcdefghijklmnopqrstuvwxyzàáâãèéêìíîòóôõùúûç\"\n",
    "    \n",
    "    for E, D in fatias:\n",
    "        for letra in letras:\n",
    "            novas_palavras.append(E+letra+D[1:])\n",
    "    \n",
    "    return novas_palavras"
   ]
  },
  {
   "cell_type": "code",
   "execution_count": 23,
   "id": "e7f40df6",
   "metadata": {},
   "outputs": [],
   "source": [
    "# Adaptando a função geradora de palavras\n",
    "\n",
    "def gerador_palavras(palavra):\n",
    "    \n",
    "    fatias = []\n",
    "    \n",
    "    for i in range(len(palavra)+1):\n",
    "        \n",
    "        fatias.append((palavra[:i], palavra[i:]))\n",
    "        \n",
    "    palavras_geradas = insere_letras(fatias)\n",
    "    palavras_geradas += deletar_caractere(fatias)\n",
    "    palavras_geradas += troca_letras(fatias)\n",
    "    \n",
    "    return palavras_geradas"
   ]
  },
  {
   "cell_type": "code",
   "execution_count": 24,
   "id": "ba5cbd0a",
   "metadata": {},
   "outputs": [
    {
     "name": "stdout",
     "output_type": "stream",
     "text": [
      "Taxa de acerto (%): 76.34\n",
      "Total de palavras: 186\n"
     ]
    }
   ],
   "source": [
    "avaliador(lista_teste)"
   ]
  },
  {
   "cell_type": "markdown",
   "id": "3a10bc78",
   "metadata": {},
   "source": [
    "<h3>Consideração de outro tipo de erro</h3>\n",
    "\n",
    "Contempla também o erro do tipo: Usuário escreve uma letra antes de outra na palavra (inversão).\n",
    "\n",
    "Exemplo: 'Lgóica'"
   ]
  },
  {
   "cell_type": "code",
   "execution_count": 25,
   "id": "ab9ac81d",
   "metadata": {},
   "outputs": [],
   "source": [
    "def inverte_letras(fatias):\n",
    "    \n",
    "    novas_palavras = []\n",
    "        \n",
    "    for E, D in fatias:\n",
    "        if len(D)>1:\n",
    "            novas_palavras.append(E+D[1]+D[0]+D[2:])\n",
    "    \n",
    "    return novas_palavras"
   ]
  },
  {
   "cell_type": "code",
   "execution_count": 26,
   "id": "3ebd6b44",
   "metadata": {},
   "outputs": [],
   "source": [
    "def gerador_palavras(palavra):\n",
    "    \n",
    "    fatias = []\n",
    "    \n",
    "    for i in range(len(palavra)+1):\n",
    "        \n",
    "        fatias.append((palavra[:i], palavra[i:]))\n",
    "        \n",
    "    palavras_geradas = insere_letras(fatias)\n",
    "    palavras_geradas += deletar_caractere(fatias)\n",
    "    palavras_geradas += troca_letras(fatias)\n",
    "    palavras_geradas += inverte_letras(fatias)\n",
    "    \n",
    "    return palavras_geradas"
   ]
  },
  {
   "cell_type": "code",
   "execution_count": 27,
   "id": "b09c4183",
   "metadata": {},
   "outputs": [
    {
     "name": "stdout",
     "output_type": "stream",
     "text": [
      "Taxa de acerto (%): 76.34\n",
      "Total de palavras: 186\n"
     ]
    }
   ],
   "source": [
    "avaliador(lista_teste)"
   ]
  },
  {
   "cell_type": "markdown",
   "id": "efbe6a3f",
   "metadata": {},
   "source": [
    "<h5> O corretor desenvolvido apresenta o erro do próprio corretor, mas também é limitado pelo vocabulário que conhece.</h5>"
   ]
  },
  {
   "cell_type": "code",
   "execution_count": 49,
   "id": "8a2cdecd",
   "metadata": {},
   "outputs": [],
   "source": [
    "def avaliador(testes, vocabulario):\n",
    "    \n",
    "    numero_de_palavras = len(testes)\n",
    "    \n",
    "    acertos = 0\n",
    "    desconhecidos = 0\n",
    "    \n",
    "    for correta, errada in testes:\n",
    "        palavra_corrigida = corretor(errada)\n",
    "        \n",
    "        if palavra_corrigida == correta:\n",
    "            acertos += 1\n",
    "        else:\n",
    "            desconhecidos += (correta not in vocabulario)\n",
    "    \n",
    "    taxa_acerto = round(acertos*100/numero_de_palavras, ndigits=2)\n",
    "    taxa_desconhecida = round(desconhecidos*100/numero_de_palavras, ndigits=2)\n",
    "    \n",
    "    print(\"Taxa de acerto (%):\", taxa_acerto)\n",
    "    print(\"Total de palavras:\", len(testes) )\n",
    "    print(\"Porcentagem (%) de palavras desconhecidas:\", taxa_desconhecida)"
   ]
  },
  {
   "cell_type": "code",
   "execution_count": 50,
   "id": "04858825",
   "metadata": {
    "scrolled": true
   },
   "outputs": [
    {
     "name": "stdout",
     "output_type": "stream",
     "text": [
      "Taxa de acerto (%): 76.34\n",
      "Total de palavras: 186\n",
      "Porcentagem (%) de palavras desconhecidas: 6.99\n"
     ]
    }
   ],
   "source": [
    "avaliador(lista_teste, vocabulario)"
   ]
  },
  {
   "cell_type": "markdown",
   "id": "2230de5c",
   "metadata": {},
   "source": [
    "<h6>Adicionando o gerador de palavras dentro de outro gerador de palavras.</h6>"
   ]
  },
  {
   "cell_type": "code",
   "execution_count": 34,
   "id": "6ddd2012",
   "metadata": {},
   "outputs": [],
   "source": [
    "def gerador_turbinado(palavras_geradas):\n",
    "    \n",
    "    novas_palavras = []\n",
    "    \n",
    "    for palavra in palavras_geradas:\n",
    "        novas_palavras += gerador_palavras(palavra)\n",
    "    \n",
    "    return novas_palavras"
   ]
  },
  {
   "cell_type": "markdown",
   "id": "ac95abb7",
   "metadata": {},
   "source": [
    "O output da função acima retorna um volume muito grande de palavras, o que demanda muita memória e poder de processamento. Esse processo deve ser otimizado."
   ]
  },
  {
   "cell_type": "markdown",
   "id": "02f49dfc",
   "metadata": {},
   "source": [
    "<h2>Corretor turbinado</h2>"
   ]
  },
  {
   "cell_type": "code",
   "execution_count": 52,
   "id": "933db0da",
   "metadata": {},
   "outputs": [],
   "source": [
    "def novo_corretor(palavra):\n",
    "    palavras_geradas = gerador_palavras(palavra)\n",
    "    \n",
    "    palavras_turbinado = gerador_turbinado(palavras_geradas)\n",
    "    \n",
    "    todas_palavras = set(palavras_geradas + palavras_turbinado) # possui muitas palavras que não servem para nada\n",
    "    \n",
    "    candidatos = [palavra]\n",
    "    \n",
    "    for palavra in todas_palavras:\n",
    "        if palavra in vocabulario:\n",
    "            candidatos.append(palavra)\n",
    "    \n",
    "    palavra_correta = max(candidatos, key=probabilidade)\n",
    "    \n",
    "    return palavra_correta"
   ]
  },
  {
   "cell_type": "markdown",
   "id": "0051a043",
   "metadata": {},
   "source": [
    "No código acima, dentre todas as palavras geradas, haverá a palavra correta. Portanto, a palavra correta provavelmente estará contida no nosso vocabulário.\n",
    "\n",
    "Após feita a verificação de quais palavras, dentre todas as geradas, estão presentes no vocabulário, recorre-se ao método de avaliação das probabilidades. Desse modo, o algoritmo não precisa calcular a probabilidade de cada uma do total de palavras geradas, e sim apenas dos candidatos."
   ]
  },
  {
   "cell_type": "code",
   "execution_count": 57,
   "id": "cd1fed74",
   "metadata": {},
   "outputs": [],
   "source": [
    "# Adaptação do avaliador para o novo corretor\n",
    "\n",
    "def avaliador(testes, vocabulario):\n",
    "    \n",
    "    numero_de_palavras = len(testes)\n",
    "    \n",
    "    acertos = 0\n",
    "    desconhecidos = 0\n",
    "    \n",
    "    for correta, errada in testes:\n",
    "        palavra_corrigida = novo_corretor(errada)\n",
    "        desconhecidos += (correta not in vocabulario)\n",
    "        \n",
    "        if palavra_corrigida == correta:\n",
    "            acertos += 1\n",
    "    \n",
    "    taxa_acerto = round(acertos*100/numero_de_palavras, ndigits=2)\n",
    "    taxa_desconhecida = round(desconhecidos*100/numero_de_palavras, ndigits=2)\n",
    "    \n",
    "    print(\"Taxa de acerto (%):\", taxa_acerto)\n",
    "    print(\"Total de palavras:\", len(testes) )\n",
    "    print(\"Porcentagem (%) de palavras desconhecidas:\", taxa_desconhecida)"
   ]
  },
  {
   "cell_type": "code",
   "execution_count": 58,
   "id": "3fd9d88d",
   "metadata": {},
   "outputs": [
    {
     "name": "stdout",
     "output_type": "stream",
     "text": [
      "Taxa de acerto (%): 55.38\n",
      "Total de palavras: 186\n",
      "Porcentagem (%) de palavras desconhecidas: 6.99\n"
     ]
    }
   ],
   "source": [
    "avaliador(lista_teste, vocabulario)"
   ]
  },
  {
   "cell_type": "markdown",
   "id": "8b2076a6",
   "metadata": {},
   "source": [
    "O erro do corretor turbinado se deve ao fato dos dados de teste conter muitas palavras erradas, com distância maior, igual ou maior que 3, pois ele corrige palavras com distância de no máximo 2."
   ]
  },
  {
   "cell_type": "markdown",
   "id": "79cff445",
   "metadata": {},
   "source": [
    "<h6>Para melhorar a perfomance dos corretores, pode-se buscar uma base de dados maior para usar como vocabulário.</h6>"
   ]
  }
 ],
 "metadata": {
  "kernelspec": {
   "display_name": "Python 3 (ipykernel)",
   "language": "python",
   "name": "python3"
  },
  "language_info": {
   "codemirror_mode": {
    "name": "ipython",
    "version": 3
   },
   "file_extension": ".py",
   "mimetype": "text/x-python",
   "name": "python",
   "nbconvert_exporter": "python",
   "pygments_lexer": "ipython3",
   "version": "3.9.7"
  }
 },
 "nbformat": 4,
 "nbformat_minor": 5
}
